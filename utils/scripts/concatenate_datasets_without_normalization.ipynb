{
 "cells": [
  {
   "cell_type": "code",
   "execution_count": 2,
   "metadata": {},
   "outputs": [],
   "source": [
    "import pandas as pd\n",
    "\n",
    "# Step 1: Read the CSV file into a DataFrame\n",
    "file_name = \"right_finger_closeness_to_face\"\n",
    "df = pd.read_csv(f'/4TBHD/ISL/CodeBase/10k_manual_annotation/{file_name}.csv')\n",
    "gold_df = pd.read_csv(f'/4TBHD/ISL/data_preparation/individual_feature_new/new_{file_name}.csv')\n",
    "df_4714 = pd.read_csv(f'/4TBHD/ISL/CodeBase/Test_Dataset_Corrections/{file_name}.csv')\n",
    "# print(df.head())\n",
    "# Step 2: Get the third column (assuming the third column index is 2)\n",
    "third_column_name = df.columns[2]\n",
    "\n",
    "# Step 3: Filter rows where the third column has a value (non-empty/non-null)\n",
    "filtered_df = df[df[third_column_name].notna()]  # Filters rows where the third column is not NaN (non-empty)\n"
   ]
  },
  {
   "cell_type": "code",
   "execution_count": 3,
   "metadata": {},
   "outputs": [
    {
     "name": "stdout",
     "output_type": "stream",
     "text": [
      "10000\n",
      "700\n",
      "4714\n",
      "Index(['Input', 'Corrections'], dtype='object')\n",
      "Index(['Image Name', 'right_finger_closeness_to_face'], dtype='object')\n",
      "Index(['Input', 'Corrections'], dtype='object')\n"
     ]
    }
   ],
   "source": [
    "filtered_df.columns\n",
    "columns_to_keep = ['Input', 'Corrections']\n",
    "\n",
    "# Select only the specified columns\n",
    "df_10k = filtered_df[columns_to_keep]\n",
    "df_4714 = df_4714[columns_to_keep]\n",
    "# print(df_10k.head())\n",
    "print(len(df_10k))\n",
    "print(len(gold_df))\n",
    "print(len(df_4714))\n",
    "print(df_10k.columns)\n",
    "print(gold_df.columns)\n",
    "print(df_4714.columns)\n",
    "\n"
   ]
  },
  {
   "cell_type": "code",
   "execution_count": 4,
   "metadata": {},
   "outputs": [
    {
     "name": "stdout",
     "output_type": "stream",
     "text": [
      "Index(['Input', 'Corrections'], dtype='object')\n",
      "<bound method NDFrame.head of                                               image_path  \\\n",
      "0      /4TBHD/ISL/data_preparation/test_all/onlyface/...   \n",
      "1      /4TBHD/ISL/data_preparation/test_all/onlyface/...   \n",
      "2      /4TBHD/ISL/data_preparation/test_all/onlyface/...   \n",
      "3      /4TBHD/ISL/data_preparation/test_all/onlyface/...   \n",
      "4      /4TBHD/ISL/data_preparation/test_all/onlyface/...   \n",
      "...                                                  ...   \n",
      "15409  /4TBHD/ISL/data_preparation/test_all/onlyface/...   \n",
      "15410  /4TBHD/ISL/data_preparation/test_all/onlyface/...   \n",
      "15411  /4TBHD/ISL/data_preparation/test_all/onlyface/...   \n",
      "15412  /4TBHD/ISL/data_preparation/test_all/onlyface/...   \n",
      "15413  /4TBHD/ISL/data_preparation/test_all/onlyface/...   \n",
      "\n",
      "      right_finger_closeness_to_face  \n",
      "0                               none  \n",
      "1                               none  \n",
      "2                               none  \n",
      "3                               none  \n",
      "4                               none  \n",
      "...                              ...  \n",
      "15409                           chin  \n",
      "15410                           chin  \n",
      "15411                           none  \n",
      "15412                           none  \n",
      "15413                           chin  \n",
      "\n",
      "[15414 rows x 2 columns]>\n"
     ]
    }
   ],
   "source": [
    "gold_df.columns = ['Input', 'Corrections']\n",
    "print(gold_df.columns)\n",
    "\n",
    "# Step 3: Concatenate the DataFrames row-wise\n",
    "concatenated_df = pd.concat([df_10k, gold_df, df_4714], ignore_index=True)\n",
    "\n",
    "# Step 4: Rename columns to \"A\" and \"B\"\n",
    "concatenated_df.columns = ['image_path', file_name]\n",
    "\n",
    "# Print the resulting DataFrame\n",
    "print(concatenated_df.head)"
   ]
  },
  {
   "cell_type": "code",
   "execution_count": 5,
   "metadata": {},
   "outputs": [
    {
     "data": {
      "text/plain": [
       "Index(['image_path', 'right_finger_closeness_to_face'], dtype='object')"
      ]
     },
     "execution_count": 5,
     "metadata": {},
     "output_type": "execute_result"
    }
   ],
   "source": [
    "concatenated_df.columns"
   ]
  },
  {
   "cell_type": "code",
   "execution_count": 6,
   "metadata": {},
   "outputs": [],
   "source": [
    "csv_file_path = f'/4TBHD/ISL/CodeBase/Dataset/non_normalized_concat/v2_post4.7k/{file_name}.csv'\n",
    "concatenated_df.to_csv(csv_file_path, index=False)"
   ]
  },
  {
   "cell_type": "code",
   "execution_count": null,
   "metadata": {},
   "outputs": [],
   "source": []
  }
 ],
 "metadata": {
  "kernelspec": {
   "display_name": ".actrec",
   "language": "python",
   "name": "python3"
  },
  "language_info": {
   "codemirror_mode": {
    "name": "ipython",
    "version": 3
   },
   "file_extension": ".py",
   "mimetype": "text/x-python",
   "name": "python",
   "nbconvert_exporter": "python",
   "pygments_lexer": "ipython3",
   "version": "3.10.12"
  }
 },
 "nbformat": 4,
 "nbformat_minor": 2
}
